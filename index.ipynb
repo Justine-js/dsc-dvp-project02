{
 "cells": [
  {
   "cell_type": "markdown",
   "metadata": {},
   "source": [
    "# INTRODUCTION\n",
    "Karamoja is the most food-insecure region of Uganda. One of the main reasons is the low productivity level of the crops due to intense droughts as well as pest and disease outbreaks. \n",
    "\n",
    "Several NGOs provide technical support as well as farm inputs to the farmers experiencing extremely low yield. \n",
    "\n",
    "In this report, we have visualized the overall state of the region yield to support the decision making of one of those NGOs active in Karamoja.\n"
   ]
  },
  {
   "cell_type": "markdown",
   "metadata": {},
   "source": [
    "# OBJECTIVES\n",
    "This Presentation contains interactive visualization tool of the results for this first crop season for use as a Food Security Monitoring tool.\n",
    "We shall have a look at 3 major visuals:\n",
    "* Crop yield variation across different districts.\n",
    "* Relationship between population and total crop production.\n",
    "* Districts with the largest and smallest crop areas.\n"
   ]
  },
  {
   "cell_type": "code",
   "execution_count": 19,
   "metadata": {},
   "outputs": [],
   "source": [
    "import pandas as pd\n",
    "pd.set_option(\"display.max_columns\", None)\n",
    "pd.set_option(\"display.max_rows\", None)\n",
    "pd.set_option(\"display.max_colwidth\", None)\n",
    "pd.set_option(\"display.float_format\", \"{:.2f}\".format)"
   ]
  },
  {
   "cell_type": "code",
   "execution_count": 26,
   "metadata": {},
   "outputs": [
    {
     "data": {
      "text/html": [
       "<div>\n",
       "<style scoped>\n",
       "    .dataframe tbody tr th:only-of-type {\n",
       "        vertical-align: middle;\n",
       "    }\n",
       "\n",
       "    .dataframe tbody tr th {\n",
       "        vertical-align: top;\n",
       "    }\n",
       "\n",
       "    .dataframe thead th {\n",
       "        text-align: right;\n",
       "    }\n",
       "</style>\n",
       "<table border=\"1\" class=\"dataframe\">\n",
       "  <thead>\n",
       "    <tr style=\"text-align: right;\">\n",
       "      <th></th>\n",
       "      <th>NAME</th>\n",
       "      <th>POP</th>\n",
       "      <th>Area</th>\n",
       "      <th>S_Yield_Ha</th>\n",
       "      <th>M_Yield_Ha</th>\n",
       "      <th>Crop_Area_Ha</th>\n",
       "      <th>S_Area_Ha</th>\n",
       "      <th>M_Area_Ha</th>\n",
       "      <th>S_Prod_Tot</th>\n",
       "      <th>M_Prod_Tot</th>\n",
       "    </tr>\n",
       "    <tr>\n",
       "      <th>OBJECTID</th>\n",
       "      <th></th>\n",
       "      <th></th>\n",
       "      <th></th>\n",
       "      <th></th>\n",
       "      <th></th>\n",
       "      <th></th>\n",
       "      <th></th>\n",
       "      <th></th>\n",
       "      <th></th>\n",
       "      <th></th>\n",
       "    </tr>\n",
       "  </thead>\n",
       "  <tbody>\n",
       "    <tr>\n",
       "      <th>92</th>\n",
       "      <td>ABIM</td>\n",
       "      <td>90385</td>\n",
       "      <td>2771977106</td>\n",
       "      <td>449</td>\n",
       "      <td>1040</td>\n",
       "      <td>5470.07</td>\n",
       "      <td>3277.30</td>\n",
       "      <td>1848.62</td>\n",
       "      <td>1471506</td>\n",
       "      <td>1922567</td>\n",
       "    </tr>\n",
       "    <tr>\n",
       "      <th>96</th>\n",
       "      <td>AMUDAT</td>\n",
       "      <td>101790</td>\n",
       "      <td>1643582836</td>\n",
       "      <td>205</td>\n",
       "      <td>1297</td>\n",
       "      <td>5765.44</td>\n",
       "      <td>2973.42</td>\n",
       "      <td>2733.66</td>\n",
       "      <td>609552</td>\n",
       "      <td>3545558</td>\n",
       "    </tr>\n",
       "    <tr>\n",
       "      <th>20</th>\n",
       "      <td>KAABONG</td>\n",
       "      <td>627057</td>\n",
       "      <td>7373606003</td>\n",
       "      <td>279</td>\n",
       "      <td>945</td>\n",
       "      <td>28121.67</td>\n",
       "      <td>20544.19</td>\n",
       "      <td>7394.42</td>\n",
       "      <td>5731830</td>\n",
       "      <td>6987723</td>\n",
       "    </tr>\n",
       "    <tr>\n",
       "      <th>85</th>\n",
       "      <td>KOTIDO</td>\n",
       "      <td>243157</td>\n",
       "      <td>3641539808</td>\n",
       "      <td>331</td>\n",
       "      <td>1148</td>\n",
       "      <td>53032.65</td>\n",
       "      <td>50247.44</td>\n",
       "      <td>1751.37</td>\n",
       "      <td>16631904</td>\n",
       "      <td>2010575</td>\n",
       "    </tr>\n",
       "    <tr>\n",
       "      <th>5</th>\n",
       "      <td>MOROTO</td>\n",
       "      <td>127811</td>\n",
       "      <td>3570160948</td>\n",
       "      <td>128</td>\n",
       "      <td>355</td>\n",
       "      <td>5954.81</td>\n",
       "      <td>4741.75</td>\n",
       "      <td>1190.05</td>\n",
       "      <td>606944</td>\n",
       "      <td>422468</td>\n",
       "    </tr>\n",
       "    <tr>\n",
       "      <th>54</th>\n",
       "      <td>NAKAPIRIPIRIT</td>\n",
       "      <td>146780</td>\n",
       "      <td>4216323900</td>\n",
       "      <td>356</td>\n",
       "      <td>1264</td>\n",
       "      <td>26372.70</td>\n",
       "      <td>19237.33</td>\n",
       "      <td>6425.79</td>\n",
       "      <td>6848491</td>\n",
       "      <td>8122197</td>\n",
       "    </tr>\n",
       "    <tr>\n",
       "      <th>80</th>\n",
       "      <td>NAPAK</td>\n",
       "      <td>167625</td>\n",
       "      <td>4508782023</td>\n",
       "      <td>137</td>\n",
       "      <td>854</td>\n",
       "      <td>22944.30</td>\n",
       "      <td>16142.02</td>\n",
       "      <td>6543.72</td>\n",
       "      <td>2211456</td>\n",
       "      <td>5588336</td>\n",
       "    </tr>\n",
       "  </tbody>\n",
       "</table>\n",
       "</div>"
      ],
      "text/plain": [
       "                   NAME     POP        Area  S_Yield_Ha  M_Yield_Ha  \\\n",
       "OBJECTID                                                              \n",
       "92                 ABIM   90385  2771977106         449        1040   \n",
       "96               AMUDAT  101790  1643582836         205        1297   \n",
       "20              KAABONG  627057  7373606003         279         945   \n",
       "85               KOTIDO  243157  3641539808         331        1148   \n",
       "5                MOROTO  127811  3570160948         128         355   \n",
       "54        NAKAPIRIPIRIT  146780  4216323900         356        1264   \n",
       "80                NAPAK  167625  4508782023         137         854   \n",
       "\n",
       "          Crop_Area_Ha  S_Area_Ha  M_Area_Ha  S_Prod_Tot  M_Prod_Tot  \n",
       "OBJECTID                                                              \n",
       "92             5470.07    3277.30    1848.62     1471506     1922567  \n",
       "96             5765.44    2973.42    2733.66      609552     3545558  \n",
       "20            28121.67   20544.19    7394.42     5731830     6987723  \n",
       "85            53032.65   50247.44    1751.37    16631904     2010575  \n",
       "5              5954.81    4741.75    1190.05      606944      422468  \n",
       "54            26372.70   19237.33    6425.79     6848491     8122197  \n",
       "80            22944.30   16142.02    6543.72     2211456     5588336  "
      ]
     },
     "execution_count": 26,
     "metadata": {},
     "output_type": "execute_result"
    }
   ],
   "source": [
    "df = pd.read_csv(\"D:/MY FOLDER\\moringa/DATA/TABLES/Uganda_Karamoja_District_Crop_Yield_Population.csv\", index_col=0)\n",
    "df"
   ]
  },
  {
   "cell_type": "code",
   "execution_count": 25,
   "metadata": {},
   "outputs": [
    {
     "data": {
      "text/html": [
       "<div>\n",
       "<style scoped>\n",
       "    .dataframe tbody tr th:only-of-type {\n",
       "        vertical-align: middle;\n",
       "    }\n",
       "\n",
       "    .dataframe tbody tr th {\n",
       "        vertical-align: top;\n",
       "    }\n",
       "\n",
       "    .dataframe thead th {\n",
       "        text-align: right;\n",
       "    }\n",
       "</style>\n",
       "<table border=\"1\" class=\"dataframe\">\n",
       "  <thead>\n",
       "    <tr style=\"text-align: right;\">\n",
       "      <th></th>\n",
       "      <th>SUBCOUNTY_NAME</th>\n",
       "      <th>DISTRICT_NAME</th>\n",
       "      <th>POP</th>\n",
       "      <th>Area</th>\n",
       "      <th>Karamoja</th>\n",
       "      <th>S_Yield_Ha</th>\n",
       "      <th>M_Yield_Ha</th>\n",
       "      <th>Crop_Area_Ha</th>\n",
       "      <th>S_Area_Ha</th>\n",
       "      <th>M_Area_Ha</th>\n",
       "      <th>S_Prod_Tot</th>\n",
       "      <th>M_Prod_Tot</th>\n",
       "    </tr>\n",
       "    <tr>\n",
       "      <th>OBJECTID</th>\n",
       "      <th></th>\n",
       "      <th></th>\n",
       "      <th></th>\n",
       "      <th></th>\n",
       "      <th></th>\n",
       "      <th></th>\n",
       "      <th></th>\n",
       "      <th></th>\n",
       "      <th></th>\n",
       "      <th></th>\n",
       "      <th></th>\n",
       "      <th></th>\n",
       "    </tr>\n",
       "  </thead>\n",
       "  <tbody>\n",
       "    <tr>\n",
       "      <th>263</th>\n",
       "      <td>KACHERI</td>\n",
       "      <td>KOTIDO</td>\n",
       "      <td>17244</td>\n",
       "      <td>1067176155</td>\n",
       "      <td>Y</td>\n",
       "      <td>354.21</td>\n",
       "      <td>1137.47</td>\n",
       "      <td>7023.53</td>\n",
       "      <td>6434.34</td>\n",
       "      <td>528.12</td>\n",
       "      <td>2279091.78</td>\n",
       "      <td>600723.89</td>\n",
       "    </tr>\n",
       "    <tr>\n",
       "      <th>264</th>\n",
       "      <td>KOTIDO</td>\n",
       "      <td>KOTIDO</td>\n",
       "      <td>52771</td>\n",
       "      <td>597575188</td>\n",
       "      <td>Y</td>\n",
       "      <td>367.89</td>\n",
       "      <td>1163.00</td>\n",
       "      <td>13587.99</td>\n",
       "      <td>12455.59</td>\n",
       "      <td>824.77</td>\n",
       "      <td>4582294.49</td>\n",
       "      <td>959201.38</td>\n",
       "    </tr>\n",
       "    <tr>\n",
       "      <th>265</th>\n",
       "      <td>KOTIDO TOWN COUNCIL</td>\n",
       "      <td>KOTIDO</td>\n",
       "      <td>27389</td>\n",
       "      <td>23972401</td>\n",
       "      <td>Y</td>\n",
       "      <td>369.31</td>\n",
       "      <td>1167.01</td>\n",
       "      <td>1656.53</td>\n",
       "      <td>1520.32</td>\n",
       "      <td>8.56</td>\n",
       "      <td>561476.49</td>\n",
       "      <td>9991.49</td>\n",
       "    </tr>\n",
       "    <tr>\n",
       "      <th>266</th>\n",
       "      <td>NAKAPERIMORU</td>\n",
       "      <td>KOTIDO</td>\n",
       "      <td>38775</td>\n",
       "      <td>419111591</td>\n",
       "      <td>Y</td>\n",
       "      <td>283.32</td>\n",
       "      <td>852.37</td>\n",
       "      <td>7087.82</td>\n",
       "      <td>6761.49</td>\n",
       "      <td>45.72</td>\n",
       "      <td>1915695.93</td>\n",
       "      <td>38971.66</td>\n",
       "    </tr>\n",
       "    <tr>\n",
       "      <th>267</th>\n",
       "      <td>PANYANGARA</td>\n",
       "      <td>KOTIDO</td>\n",
       "      <td>65704</td>\n",
       "      <td>880955930</td>\n",
       "      <td>Y</td>\n",
       "      <td>373.84</td>\n",
       "      <td>1283.86</td>\n",
       "      <td>10398.25</td>\n",
       "      <td>10111.20</td>\n",
       "      <td>172.61</td>\n",
       "      <td>3779939.22</td>\n",
       "      <td>221609.51</td>\n",
       "    </tr>\n",
       "    <tr>\n",
       "      <th>268</th>\n",
       "      <td>RENGEN</td>\n",
       "      <td>KOTIDO</td>\n",
       "      <td>41273</td>\n",
       "      <td>652744859</td>\n",
       "      <td>Y</td>\n",
       "      <td>271.19</td>\n",
       "      <td>1047.18</td>\n",
       "      <td>13278.52</td>\n",
       "      <td>12964.50</td>\n",
       "      <td>171.59</td>\n",
       "      <td>3515788.79</td>\n",
       "      <td>179681.14</td>\n",
       "    </tr>\n",
       "    <tr>\n",
       "      <th>591</th>\n",
       "      <td>KAABONG  EAST</td>\n",
       "      <td>KAABONG</td>\n",
       "      <td>42221</td>\n",
       "      <td>60801942</td>\n",
       "      <td>Y</td>\n",
       "      <td>160.59</td>\n",
       "      <td>650.12</td>\n",
       "      <td>1021.32</td>\n",
       "      <td>1004.65</td>\n",
       "      <td>15.66</td>\n",
       "      <td>161334.87</td>\n",
       "      <td>10181.20</td>\n",
       "    </tr>\n",
       "    <tr>\n",
       "      <th>592</th>\n",
       "      <td>KAABONG TOWN COUNCIL</td>\n",
       "      <td>KAABONG</td>\n",
       "      <td>38857</td>\n",
       "      <td>13071455</td>\n",
       "      <td>Y</td>\n",
       "      <td>212.21</td>\n",
       "      <td>1229.21</td>\n",
       "      <td>175.08</td>\n",
       "      <td>156.50</td>\n",
       "      <td>18.53</td>\n",
       "      <td>33211.80</td>\n",
       "      <td>22772.64</td>\n",
       "    </tr>\n",
       "    <tr>\n",
       "      <th>593</th>\n",
       "      <td>KAABONG WEST</td>\n",
       "      <td>KAABONG</td>\n",
       "      <td>41454</td>\n",
       "      <td>67612362</td>\n",
       "      <td>Y</td>\n",
       "      <td>208.04</td>\n",
       "      <td>1056.42</td>\n",
       "      <td>967.34</td>\n",
       "      <td>910.25</td>\n",
       "      <td>56.28</td>\n",
       "      <td>189369.74</td>\n",
       "      <td>59450.19</td>\n",
       "    </tr>\n",
       "    <tr>\n",
       "      <th>594</th>\n",
       "      <td>KALAPATA</td>\n",
       "      <td>KAABONG</td>\n",
       "      <td>99203</td>\n",
       "      <td>223116860</td>\n",
       "      <td>Y</td>\n",
       "      <td>209.81</td>\n",
       "      <td>633.42</td>\n",
       "      <td>2834.35</td>\n",
       "      <td>2501.37</td>\n",
       "      <td>331.23</td>\n",
       "      <td>524810.46</td>\n",
       "      <td>209806.10</td>\n",
       "    </tr>\n",
       "  </tbody>\n",
       "</table>\n",
       "</div>"
      ],
      "text/plain": [
       "                SUBCOUNTY_NAME DISTRICT_NAME    POP        Area Karamoja  \\\n",
       "OBJECTID                                                                   \n",
       "263                    KACHERI        KOTIDO  17244  1067176155        Y   \n",
       "264                     KOTIDO        KOTIDO  52771   597575188        Y   \n",
       "265        KOTIDO TOWN COUNCIL        KOTIDO  27389    23972401        Y   \n",
       "266               NAKAPERIMORU        KOTIDO  38775   419111591        Y   \n",
       "267                 PANYANGARA        KOTIDO  65704   880955930        Y   \n",
       "268                     RENGEN        KOTIDO  41273   652744859        Y   \n",
       "591              KAABONG  EAST       KAABONG  42221    60801942        Y   \n",
       "592       KAABONG TOWN COUNCIL       KAABONG  38857    13071455        Y   \n",
       "593               KAABONG WEST       KAABONG  41454    67612362        Y   \n",
       "594                   KALAPATA       KAABONG  99203   223116860        Y   \n",
       "\n",
       "          S_Yield_Ha  M_Yield_Ha  Crop_Area_Ha  S_Area_Ha  M_Area_Ha  \\\n",
       "OBJECTID                                                               \n",
       "263           354.21     1137.47       7023.53    6434.34     528.12   \n",
       "264           367.89     1163.00      13587.99   12455.59     824.77   \n",
       "265           369.31     1167.01       1656.53    1520.32       8.56   \n",
       "266           283.32      852.37       7087.82    6761.49      45.72   \n",
       "267           373.84     1283.86      10398.25   10111.20     172.61   \n",
       "268           271.19     1047.18      13278.52   12964.50     171.59   \n",
       "591           160.59      650.12       1021.32    1004.65      15.66   \n",
       "592           212.21     1229.21        175.08     156.50      18.53   \n",
       "593           208.04     1056.42        967.34     910.25      56.28   \n",
       "594           209.81      633.42       2834.35    2501.37     331.23   \n",
       "\n",
       "          S_Prod_Tot  M_Prod_Tot  \n",
       "OBJECTID                          \n",
       "263       2279091.78   600723.89  \n",
       "264       4582294.49   959201.38  \n",
       "265        561476.49     9991.49  \n",
       "266       1915695.93    38971.66  \n",
       "267       3779939.22   221609.51  \n",
       "268       3515788.79   179681.14  \n",
       "591        161334.87    10181.20  \n",
       "592         33211.80    22772.64  \n",
       "593        189369.74    59450.19  \n",
       "594        524810.46   209806.10  "
      ]
     },
     "execution_count": 25,
     "metadata": {},
     "output_type": "execute_result"
    }
   ],
   "source": [
    "df1 = pd.read_csv(\"D:/MY FOLDER/moringa/DATA/TABLES/Uganda_Karamoja_Subcounty_Crop_Yield_Population.csv\", index_col=0)\n",
    "df1.head(10)"
   ]
  },
  {
   "cell_type": "markdown",
   "metadata": {},
   "source": [
    "Karamoja is a region in Uganda covering an area of 27,528km and comprises the Kotido District, Kaabong District, Karenga District, Nabilatuk District, Abim District, Moroto District, Napak District, Amudat District and Nakapiripirit District.\n",
    "\n",
    "\n",
    "Our research will focus on the following districts; KOTIDO, KAABONG, ABIM, AMUDAT, MOROTO, NAKAPIRIPIRIT, NAPAK \n",
    "Karamoja - Location\n"
   ]
  },
  {
   "cell_type": "code",
   "execution_count": 29,
   "metadata": {},
   "outputs": [
    {
     "data": {
      "text/plain": [
       "['KOTIDO', 'KAABONG', 'ABIM', 'AMUDAT', 'MOROTO', 'NAKAPIRIPIRIT', 'NAPAK']"
      ]
     },
     "execution_count": 29,
     "metadata": {},
     "output_type": "execute_result"
    }
   ],
   "source": [
    "list(df1['DISTRICT_NAME'].unique())"
   ]
  },
  {
   "cell_type": "code",
   "execution_count": 30,
   "metadata": {},
   "outputs": [
    {
     "data": {
      "text/plain": [
       "1504604"
      ]
     },
     "execution_count": 30,
     "metadata": {},
     "output_type": "execute_result"
    }
   ],
   "source": [
    "sum(df1['POP'])"
   ]
  },
  {
   "cell_type": "code",
   "execution_count": 31,
   "metadata": {},
   "outputs": [
    {
     "data": {
      "text/plain": [
       "1504605"
      ]
     },
     "execution_count": 31,
     "metadata": {},
     "output_type": "execute_result"
    }
   ],
   "source": [
    "sum(df['POP'])"
   ]
  },
  {
   "cell_type": "code",
   "execution_count": null,
   "metadata": {},
   "outputs": [],
   "source": []
  },
  {
   "cell_type": "code",
   "execution_count": 39,
   "metadata": {},
   "outputs": [
    {
     "ename": "SyntaxError",
     "evalue": "closing parenthesis ')' does not match opening parenthesis '[' (<ipython-input-39-c6380e528837>, line 1)",
     "output_type": "error",
     "traceback": [
      "\u001b[1;36m  File \u001b[1;32m\"<ipython-input-39-c6380e528837>\"\u001b[1;36m, line \u001b[1;32m1\u001b[0m\n\u001b[1;33m    df[df['S_Prod_Tot'])/df['POP']]\u001b[0m\n\u001b[1;37m                       ^\u001b[0m\n\u001b[1;31mSyntaxError\u001b[0m\u001b[1;31m:\u001b[0m closing parenthesis ')' does not match opening parenthesis '['\n"
     ]
    }
   ],
   "source": [
    "df[df['S_Prod_Tot'])/df['POP']]\n"
   ]
  },
  {
   "cell_type": "code",
   "execution_count": null,
   "metadata": {},
   "outputs": [],
   "source": []
  },
  {
   "cell_type": "code",
   "execution_count": null,
   "metadata": {},
   "outputs": [],
   "source": []
  },
  {
   "cell_type": "code",
   "execution_count": null,
   "metadata": {},
   "outputs": [],
   "source": []
  },
  {
   "cell_type": "code",
   "execution_count": null,
   "metadata": {},
   "outputs": [],
   "source": []
  },
  {
   "cell_type": "code",
   "execution_count": null,
   "metadata": {},
   "outputs": [],
   "source": []
  },
  {
   "cell_type": "code",
   "execution_count": null,
   "metadata": {},
   "outputs": [],
   "source": []
  },
  {
   "cell_type": "markdown",
   "metadata": {},
   "source": [
    "# CONCLUSION\n",
    "This visualizations provide clear overview of Karamoja's crop yield and total production of the 2 crops based on various factors. \n",
    "By analyzing crop yields, crop production and geographical crop areas, we gain insight districts facing potential food shortages. The findings also shows impacts of population size and total crop production for use during offering priority to most affected areas.\n",
    "\n",
    "These visualizations will help in making informed decision and identifying high priority areas in an effort to improve food security in Karamoja.\n"
   ]
  },
  {
   "cell_type": "code",
   "execution_count": null,
   "metadata": {},
   "outputs": [],
   "source": []
  },
  {
   "cell_type": "code",
   "execution_count": null,
   "metadata": {},
   "outputs": [],
   "source": []
  },
  {
   "cell_type": "code",
   "execution_count": null,
   "metadata": {},
   "outputs": [],
   "source": []
  },
  {
   "cell_type": "markdown",
   "metadata": {},
   "source": [
    "# Project 2: More Data, More Visualizations"
   ]
  },
  {
   "cell_type": "markdown",
   "metadata": {},
   "source": [
    "For this project, the students will:\n",
    "* find a data set of their choosing\n",
    "* get approval from the instructor to use that data set\n",
    "* upon approval, find another (related) data set\n",
    "* join the new data set with the original one to create an \"enriched\" data set\n",
    "* perform an open-ended Exploratory Data Analysis (EDA) on the enriched data set"
   ]
  },
  {
   "cell_type": "markdown",
   "metadata": {},
   "source": [
    "Regarding the last bullet, \"open-ended\" means the student chooses the EDA that is performed. The student should have at least three types of data analysis (e.g., mean, standard deviation) and at least three types of graphs (e.g., historgram, bar graph). The student will explain why those variables were chosen for numerical or graphical analysis. Finally, the student will make note of any unusual values for any variable that is analyzed."
   ]
  }
 ],
 "metadata": {
  "kernelspec": {
   "display_name": "Python (learn-env)",
   "language": "python",
   "name": "learn-env"
  },
  "language_info": {
   "codemirror_mode": {
    "name": "ipython",
    "version": 3
   },
   "file_extension": ".py",
   "mimetype": "text/x-python",
   "name": "python",
   "nbconvert_exporter": "python",
   "pygments_lexer": "ipython3",
   "version": "3.8.5"
  }
 },
 "nbformat": 4,
 "nbformat_minor": 5
}
